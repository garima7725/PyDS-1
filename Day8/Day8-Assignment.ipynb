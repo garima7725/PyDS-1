{
 "cells": [
  {
   "cell_type": "markdown",
   "metadata": {},
   "source": [
    "Make a ndarray by using **np.arange(120)**, reshape it into shape of (2,3,4,5) and do the following operation on this new ndarray:\n",
    "\n",
    "1. Access the value 91 using indexing\n",
    "2. obtain a range of value 35-39 from this ndarray\n",
    "3. Make another 1D array from this having values 0 and all multiples of 5\n",
    "4. obtain mean values on axis-3 elements."
   ]
  },
  {
   "cell_type": "code",
   "execution_count": null,
   "metadata": {},
   "outputs": [],
   "source": []
  },
  {
   "cell_type": "markdown",
   "metadata": {},
   "source": [
    "Make a numpy ndarray **np.linspace(5,20,24)**, and reshape into shape of (4,6). \n",
    "1. Split and stack to make array of shape (4,4) such that it contain elements of first, second ,fourth and sixth column.\n",
    "2. Split and stack to make array of shape (2,2) such that it contain elements of first and fourth row and third and fifth column."
   ]
  },
  {
   "cell_type": "code",
   "execution_count": null,
   "metadata": {},
   "outputs": [],
   "source": []
  },
  {
   "cell_type": "markdown",
   "metadata": {},
   "source": [
    "Plot a function of **log2** and straight line **$y = 0.5x - 1$** using matplotlib and find out approximate value at which they intersect. Make sure you have legend in the figure naming the curve."
   ]
  },
  {
   "cell_type": "code",
   "execution_count": null,
   "metadata": {},
   "outputs": [],
   "source": []
  }
 ],
 "metadata": {
  "kernelspec": {
   "display_name": "Python 3",
   "language": "python",
   "name": "python3"
  },
  "language_info": {
   "codemirror_mode": {
    "name": "ipython",
    "version": 3
   },
   "file_extension": ".py",
   "mimetype": "text/x-python",
   "name": "python",
   "nbconvert_exporter": "python",
   "pygments_lexer": "ipython3",
   "version": "3.7.2"
  }
 },
 "nbformat": 4,
 "nbformat_minor": 2
}
